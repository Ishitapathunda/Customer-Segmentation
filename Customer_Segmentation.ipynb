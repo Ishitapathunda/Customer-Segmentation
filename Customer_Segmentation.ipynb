# ==============================
# 1. Import Libraries
# ==============================
import pandas as pd
import numpy as np
import matplotlib.pyplot as plt
import seaborn as sns

from sklearn.preprocessing import StandardScaler
from sklearn.decomposition import PCA
from sklearn.cluster import KMeans
from sklearn.metrics import silhouette_score

# ==============================
# 2. Load Dataset
# ==============================
df = pd.read_csv("data/online_retail.csv", encoding="ISO-8859-1")
print(df.head())

# Basic cleaning
df = df.dropna(subset=["CustomerID"])
df["InvoiceDate"] = pd.to_datetime(df["InvoiceDate"])
df["TotalAmount"] = df["Quantity"] * df["UnitPrice"]

# ==============================
# 3. Compute RFM Metrics
# ==============================
snapshot_date = df["InvoiceDate"].max() + pd.DateOffset(days=1)

rfm = df.groupby("CustomerID").agg({
    "InvoiceDate": lambda x: (snapshot_date - x.max()).days,   # Recency
    "InvoiceNo": "count",                                     # Frequency
    "TotalAmount": "sum"                                      # Monetary
})

rfm.rename(columns={"InvoiceDate":"Recency",
                    "InvoiceNo":"Frequency",
                    "TotalAmount":"Monetary"}, inplace=True)

print(rfm.head())

# ==============================
# 4. Scale Data
# ==============================
scaler = StandardScaler()
rfm_scaled = scaler.fit_transform(rfm)

# ==============================
# 5. Find Optimal K (Elbow + Silhouette)
# ==============================
sse = []
sil_scores = []

for k in range(2, 10):
    kmeans = KMeans(n_clusters=k, random_state=42)
    kmeans.fit(rfm_scaled)
    sse.append(kmeans.inertia_)
    sil = silhouette_score(rfm_scaled, kmeans.labels_)
    sil_scores.append(sil)

# Plot Elbow
plt.figure(figsize=(8,4))
plt.plot(range(2,10), sse, marker='o')
plt.title("Elbow Method")
plt.xlabel("k")
plt.ylabel("SSE")
plt.show()

# Plot Silhouette
plt.figure(figsize=(8,4))
plt.plot(range(2,10), sil_scores, marker='o', color="red")
plt.title("Silhouette Scores")
plt.xlabel("k")
plt.ylabel("Score")
plt.show()

# ==============================
# 6. Apply K-Means
# ==============================
kmeans = KMeans(n_clusters=4, random_state=42)
rfm["Cluster"] = kmeans.fit_predict(rfm_scaled)

# ==============================
# 7. Visualize Clusters
# ==============================
# PCA for 2D visualization
pca = PCA(n_components=2)
rfm_pca = pca.fit_transform(rfm_scaled)
rfm["PCA1"] = rfm_pca[:,0]
rfm["PCA2"] = rfm_pca[:,1]

plt.figure(figsize=(8,6))
sns.scatterplot(data=rfm, x="PCA1", y="PCA2", hue="Cluster", palette="Set2")
plt.title("Customer Segmentation with K-Means")
plt.show()

# ==============================
# 8. Cluster Analysis
# ==============================
summary = rfm.groupby("Cluster").agg({
    "Recency":"mean",
    "Frequency":"mean",
    "Monetary":"mean"
}).round(0)

print(summary)
